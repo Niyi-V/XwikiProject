{
 "cells": [
  {
   "cell_type": "markdown",
   "metadata": {},
   "source": [
    "# PDF2DOC2HTML"
   ]
  },
  {
   "cell_type": "code",
   "execution_count": 3,
   "metadata": {},
   "outputs": [],
   "source": [
    "import PyPDF2\n",
    "\n",
    "import pypandoc\n",
    "\n",
    "import time\n",
    "\n",
    "import win32com.client\n",
    "\n",
    "import os\n",
    "\n",
    "import shutil\n",
    "\n",
    "\n",
    "X = (5)\n",
    "\n",
    "word = win32com.client.Dispatch(\"Word.Application\")\n",
    "\n",
    "word.visible = 1\n",
    "\n",
    "pdfdoc=r\"C:\\Users\\Niyi\\Downloads\\PDF Converter\\Tableau Newsletter - Will Huntington.pdf\"\n",
    "\n",
    "# pdfdoc=r\"C:\\Users\\Niyi\\Downloads\\PDF Converter\\Hotel march 15 2020 altus.pdf\"\n",
    "\n",
    "todocx = 'Hotel.docx'\n",
    "\n",
    "wb1 = word.Documents.Open(pdfdoc)\n",
    "\n",
    "\n",
    "wb1.SaveAs(todocx, FileFormat=16)\n",
    "\n",
    "\n",
    "\n",
    "\n",
    "def closefile():\n",
    "    \n",
    "    os.system( \"TASKKILL /F /IM Winword.exe\" )\n",
    "    \n",
    "closefile()\n",
    "\n",
    "\n",
    "time.sleep(X)\n",
    "\n",
    "\n",
    "source = r\"C:\\Users\\Niyi\\Documents\\Hotel.docx\"\n",
    "\n",
    "destination = r\"C:\\Users\\Niyi\\Downloads\\PDF Converter\"\n",
    "\n",
    "dest = shutil.move(source, destination)\n",
    "\n",
    "\n",
    "\n",
    "time.sleep(X)\n",
    "\n",
    "\n",
    "output = pypandoc.convert_file('Hotel.docx', 'html', outputfile = 'Hotel.html')\n",
    "\n",
    "#time.sleep(120)"
   ]
  },
  {
   "cell_type": "code",
   "execution_count": 16,
   "metadata": {
    "collapsed": true
   },
   "outputs": [
    {
     "ename": "SyntaxError",
     "evalue": "(unicode error) 'unicodeescape' codec can't decode bytes in position 2-3: truncated \\UXXXXXXXX escape (<ipython-input-16-806a2759ab5b>, line 27)",
     "output_type": "error",
     "traceback": [
      "\u001b[1;36m  File \u001b[1;32m\"<ipython-input-16-806a2759ab5b>\"\u001b[1;36m, line \u001b[1;32m27\u001b[0m\n\u001b[1;33m    output = pypandoc.convert_file('C:\\Users\\Niyi\\Documents\\Harry108.docx', 'html', outputfile = 'docconversion.html')\u001b[0m\n\u001b[1;37m                                   ^\u001b[0m\n\u001b[1;31mSyntaxError\u001b[0m\u001b[1;31m:\u001b[0m (unicode error) 'unicodeescape' codec can't decode bytes in position 2-3: truncated \\UXXXXXXXX escape\n"
     ]
    }
   ],
   "source": [
    "import PyPDF2\n",
    "\n",
    "import pypandoc\n",
    "\n",
    "import win32com.client\n",
    "\n",
    "import time\n",
    "\n",
    "os.environ.setdefault('PYPANDOC_PANDOC', '/home/x/whatever/pandoc')\n",
    "\n",
    "word = win32com.client.Dispatch(\"Word.Application\")\n",
    "\n",
    "word.visible = 1\n",
    "\n",
    "pdfdoc=r\"C:\\Users\\Niyi\\Downloads\\PDF Converter\\Tableau Newsletter - Will Huntington.pdf\"\n",
    "\n",
    "todocx = 'Harry108.docx'\n",
    "\n",
    "wb1 = word.Documents.Open(pdfdoc)\n",
    "\n",
    "wb1.SaveAs(todocx, FileFormat=16)\n",
    "\n",
    "time.sleep(20)\n",
    "\n",
    "\n",
    "output = pypandoc.convert_file('C:\\Users\\Niyi\\Documents\\Harry108.docx', 'html', outputfile = 'docconversion.html')"
   ]
  },
  {
   "cell_type": "markdown",
   "metadata": {},
   "source": [
    "# Pdf to Html"
   ]
  },
  {
   "cell_type": "code",
   "execution_count": 44,
   "metadata": {},
   "outputs": [],
   "source": [
    "import PyPDF2\n",
    "\n",
    "import pypandoc\n",
    "\n",
    "import time\n",
    "\n",
    "import win32com.client\n",
    "\n",
    "import os\n",
    "\n",
    "import shutil\n",
    "\n",
    "X = (10)\n",
    "\n",
    "word = win32com.client.Dispatch(\"Word.Application\")\n",
    "\n",
    "word.visible = 1\n",
    "\n",
    "pdfdoc=r\"C:\\Users\\Niyi\\Downloads\\PDF Converter\\Tableau Newsletter - Will Huntington.pdf\"\n",
    "\n",
    "todocx = 'Harry443.docx'\n",
    "\n",
    "wb1 = word.Documents.Open(pdfdoc)\n",
    "\n",
    "wb1.SaveAs(todocx, FileFormat=16)\n",
    "\n",
    "\n",
    "\n",
    "\n",
    "def closefile():\n",
    "    \n",
    "    os.system( \"TASKKILL /F /IM Winword.exe\" )\n",
    "    \n",
    "closefile()\n",
    "\n",
    "time.sleep(X)\n",
    "\n",
    "source = r\"C:\\Users\\Niyi\\Documents\\Harry443.docx\"\n",
    "\n",
    "destination = r\"C:\\Users\\Niyi\\Downloads\\PDF Converter\"\n",
    "\n",
    "dest = shutil.move(source, destination)\n",
    "\n",
    "time.sleep(X)\n",
    "\n",
    "output = pypandoc.convert_file('Harry443.docx', 'html', outputfile = 'doccon3.html')\n",
    "\n",
    "#time.sleep(120)"
   ]
  },
  {
   "cell_type": "code",
   "execution_count": null,
   "metadata": {},
   "outputs": [],
   "source": []
  }
 ],
 "metadata": {
  "kernelspec": {
   "display_name": "Python 3",
   "language": "python",
   "name": "python3"
  },
  "language_info": {
   "codemirror_mode": {
    "name": "ipython",
    "version": 3
   },
   "file_extension": ".py",
   "mimetype": "text/x-python",
   "name": "python",
   "nbconvert_exporter": "python",
   "pygments_lexer": "ipython3",
   "version": "3.8.5"
  }
 },
 "nbformat": 4,
 "nbformat_minor": 4
}
